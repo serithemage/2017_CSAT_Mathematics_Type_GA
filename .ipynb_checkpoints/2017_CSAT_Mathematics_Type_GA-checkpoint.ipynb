{
 "cells": [
  {
   "cell_type": "markdown",
   "metadata": {},
   "source": [
    "# 파이썬으로 풀어보는 2017학년도 대학수학능력시험 수학영역\n",
    "\n",
    "## [github](https://github.com/serithemage/2017_CSAT_Mathematics_Type_GA)을 통해 누구나 참여하실 수 있습니다.\n",
    "\n",
    "- [jupyter notebook](http://jupyter.org/)을 이용해서 풀고 있습니다.\n",
    "- jupyter notebook은 [Anaconda](https://www.continuum.io/downloads)를 통해 손쉽게 설치할 수 있습니다.\n",
    "- 실행결과는 [이쪽](https://anaconda.org/ymath/2017_csat_mathematics_type_ga/notebook)에서 확인 하실 수 있습니다.\n",
    "- 풀이에 대한 의견은 [issues](https://github.com/serithemage/2017_CSAT_Mathematics_Type_GA/issues)에 적어주세요.\n",
    "- **제 자신은 수학도 파이썬도 허접해서 상당히 애를 먹고 있습니다. 능력자 분들의 Pull request 환영합니다!**\n"
   ]
  },
  {
   "cell_type": "markdown",
   "metadata": {},
   "source": [
    "$1.\\space 두\\space 백터\\space \\overrightarrow{a}=(1,3),\\space \\overrightarrow{b}=(5,-6)에\\space 대하여\\space 벡터 \\overrightarrow{a}-\\overrightarrow{b}의\\space 모든\\space 성분의\\space 합은?$"
   ]
  },
  {
   "cell_type": "code",
   "execution_count": 1,
   "metadata": {
    "collapsed": true
   },
   "outputs": [],
   "source": [
    "import numpy as np"
   ]
  },
  {
   "cell_type": "code",
   "execution_count": 2,
   "metadata": {
    "collapsed": false
   },
   "outputs": [
    {
     "data": {
      "text/plain": [
       "5"
      ]
     },
     "execution_count": 2,
     "metadata": {},
     "output_type": "execute_result"
    }
   ],
   "source": [
    "a = np.matrix([1,3])\n",
    "b = np.matrix([5,-6])\n",
    "np.sum(a-b)"
   ]
  },
  {
   "cell_type": "markdown",
   "metadata": {
    "collapsed": false
   },
   "source": [
    "$2.\\space\\lim_{x \\to 0}\\frac{e^{6x}-1}{ln(1+3x)}의\\space값은?$"
   ]
  },
  {
   "cell_type": "code",
   "execution_count": 6,
   "metadata": {
    "collapsed": false
   },
   "outputs": [
    {
     "data": {
      "text/plain": [
       "mpf('2.0')"
      ]
     },
     "execution_count": 6,
     "metadata": {},
     "output_type": "execute_result"
    }
   ],
   "source": [
    "from mpmath import *\n",
    "limit(lambda x: (exp(6*x)-1)/(ln(1+3*x)), 0)"
   ]
  },
  {
   "cell_type": "markdown",
   "metadata": {
    "collapsed": true
   },
   "source": [
    "$3.\\space \\int_{0}^{\\frac{\\pi}{2}}2\\sin \\space x \\space dx 의 값은?$"
   ]
  },
  {
   "cell_type": "code",
   "execution_count": 10,
   "metadata": {
    "collapsed": false
   },
   "outputs": [
    {
     "data": {
      "text/plain": [
       "(1.9999999999999998, 2.2204460492503128e-14)"
      ]
     },
     "execution_count": 10,
     "metadata": {},
     "output_type": "execute_result"
    }
   ],
   "source": [
    "from scipy import integrate\n",
    "f = lambda x: 2*sin(x)\n",
    "integrate.quad(f,0,pi/2)"
   ]
  },
  {
   "cell_type": "markdown",
   "metadata": {},
   "source": [
    "$4.\\space 두\\space 사건\\space A와\\space B는\\space 서로\\space 독립이고\\\\\n",
    "P(B^{C})=\\frac{1}{3}, P(A|B)=\\frac{1}{2} \\\\\n",
    "일\\space 때,\\space P(A)P(B)의 값은?\\space (단, B^{C}은\\space B의\\space 여사건이다.)$\n",
    "> A,B가 서로 독립일때 P(A)P(B)=P(A) 이 성립한다 ([출처:위키피디아](https://ko.wikipedia.org/wiki/%EC%A1%B0%EA%B1%B4%EB%B6%80_%ED%99%95%EB%A5%A0))"
   ]
  },
  {
   "cell_type": "code",
   "execution_count": 12,
   "metadata": {
    "collapsed": false
   },
   "outputs": [
    {
     "data": {
      "text/plain": [
       "0.33333333333333337"
      ]
     },
     "execution_count": 12,
     "metadata": {},
     "output_type": "execute_result"
    }
   ],
   "source": [
    "PB = 1 - (1/3)\n",
    "PA = 1/2\n",
    "PA * PB"
   ]
  },
  {
   "cell_type": "markdown",
   "metadata": {},
   "source": [
    "5.숫자 1,2,3,4,5 중에서 중복을 허락하여 네 개를 택해 일렬로 나열하여 만든 네 자리의 자연수가 5의 배수인 경우의 수는?\n",
    "\n",
    "> 5의 배수가 될 수 있는 수는 끝자리가 0 아니면 5가 되어야 하는데 제시된 5개의 숫자중에 0이 없다. 따라서 5x5x5x1"
   ]
  },
  {
   "cell_type": "code",
   "execution_count": 13,
   "metadata": {
    "collapsed": false
   },
   "outputs": [
    {
     "data": {
      "text/plain": [
       "125"
      ]
     },
     "execution_count": 13,
     "metadata": {},
     "output_type": "execute_result"
    }
   ],
   "source": [
    "5*5*5*1"
   ]
  },
  {
   "cell_type": "markdown",
   "metadata": {},
   "source": [
    "$6.\\space함수\\space f(x)=x^3+x+1의\\space 역함수를\\space g(x)라\\space 할때,\\space g'(1)의\\space 값은?$\n",
    "\n",
    "> 역함수의 미분은 원래 함수를 미분한 값의 역과 같음. 출전: http://j1w2k3.tistory.com/316"
   ]
  },
  {
   "cell_type": "code",
   "execution_count": 2,
   "metadata": {
    "collapsed": false
   },
   "outputs": [
    {
     "data": {
      "text/plain": [
       "1"
      ]
     },
     "execution_count": 2,
     "metadata": {},
     "output_type": "execute_result"
    }
   ],
   "source": [
    "from sympy import *\n",
    "x = symbols('x') # 심볼 정의\n",
    "fx = x**3+x+1    # 식 정의\n",
    "1 / diff(fx).doit().subs({x:0})"
   ]
  },
  {
   "cell_type": "markdown",
   "metadata": {},
   "source": [
    "7.한 개의 주사위를 3 번 던질 때, 4 의 눈이 한 번만 나올 확률은?\n",
    "\n",
    "> 4이외의 주사위가 두번 그리고 4가 한번 나올 확률이므로 \n",
    "\n",
    "$\\frac{5*5*1*3}{6^3} = \\frac{25}{72}$"
   ]
  },
  {
   "cell_type": "code",
   "execution_count": 18,
   "metadata": {
    "collapsed": false
   },
   "outputs": [
    {
     "data": {
      "text/plain": [
       "25.0"
      ]
     },
     "execution_count": 18,
     "metadata": {},
     "output_type": "execute_result"
    }
   ],
   "source": [
    "from math import gcd\n",
    "a = 5*5*1*3  # 4 이외의 주사위가 2번 그리고 4가 1번 나올 확률\n",
    "b = 6**3     # 주사위를 3번 던졌을때 모든 확률\n",
    "c = gcd(a,b) # 최대 공약수\n",
    "a / c        # 분자"
   ]
  },
  {
   "cell_type": "code",
   "execution_count": 16,
   "metadata": {
    "collapsed": false
   },
   "outputs": [
    {
     "data": {
      "text/plain": [
       "72.0"
      ]
     },
     "execution_count": 16,
     "metadata": {},
     "output_type": "execute_result"
    }
   ],
   "source": [
    "b / c        # 분모"
   ]
  },
  {
   "cell_type": "markdown",
   "metadata": {
    "collapsed": true
   },
   "source": [
    "$8.\\ 좌표공간의\\ 두\\ 점\\  A(1,\\space a,\\space-6),\\space B(-3,\\space2,\\space b)에\\space대하여\\\\\n",
    "\\space선분\\space AB를\\space3:2로\\space외분하는\\space점이\\space x축\\space위에\\space있을\\space때,\\space a+b의\\space값은?$\n",
    "> 외분점의 y, z좌표가 0이어야만 한다."
   ]
  },
  {
   "cell_type": "code",
   "execution_count": 19,
   "metadata": {
    "collapsed": false
   },
   "outputs": [
    {
     "name": "stdout",
     "output_type": "stream",
     "text": [
      "a : 3, b : -4, a+b = -1\n"
     ]
    }
   ],
   "source": [
    "from sympy.solvers import solve\n",
    "from sympy import Symbol\n",
    "a = Symbol(\"a\")\n",
    "b = Symbol(\"b\")\n",
    "fa = solve((3*2 - 2*a)/(3-2), a).pop()\n",
    "fb = solve((3*b - 2*-6)/(3-2), b).pop()\n",
    "print(\"a : {}, b : {}, a+b = {}\".format(fa, fb, fa+fb))"
   ]
  },
  {
   "cell_type": "markdown",
   "metadata": {},
   "source": [
    "$9.\\ \\int_{1}^{e}\\ln \\frac{x}{e} \\ dx 의\\ 값은?$"
   ]
  },
  {
   "cell_type": "code",
   "execution_count": 11,
   "metadata": {
    "collapsed": false
   },
   "outputs": [
    {
     "name": "stdout",
     "output_type": "stream",
     "text": [
      "(-0.7182818284590452, 7.97453024125089e-15)\n",
      "-0.7182818284590452 = 2-e\n"
     ]
    }
   ],
   "source": [
    "from scipy import integrate, log, e\n",
    "f = lambda x: log(x/e)\n",
    "result = integrate.quad(f, 1, e)\n",
    "print(result)\n",
    "print(result[0], \"= 2-e\")"
   ]
  },
  {
   "cell_type": "markdown",
   "metadata": {},
   "source": [
    "$10.\\ 좌표평면\\ 위를\\ 움직이는\\ 점\\ P의\\ 시각\\ t\\ (t>0)에서의\\ 위치\\ (x,\\ y)가\\\\\n",
    "x=t-\\frac{2}{t},\\ y=2t+\\frac{1}{t}\\\\\n",
    "이다.\\ 시각\\ t=1에서\\ 점\\ P의\\ 속력은?$"
   ]
  },
  {
   "cell_type": "code",
   "execution_count": 70,
   "metadata": {
    "collapsed": false
   },
   "outputs": [
    {
     "name": "stdout",
     "output_type": "stream",
     "text": [
      "3.16227766016838\n"
     ]
    }
   ],
   "source": [
    "from mpmath import *\n",
    "fx = lambda t: t-2/t\n",
    "fy = lambda t: 2*t+1/t\n",
    "dfx = diff(fx, 1)\n",
    "dfy = diff(fy, 1)\n",
    "result = root(dfx**2 + dfy**2, n=2)\n",
    "print(result, \"= sqrt(10)\")"
   ]
  },
  {
   "cell_type": "markdown",
   "metadata": {},
   "source": [
    "$11.\\ 그림과\\ 같이\\ 곡선\\ y=\\sqrt{x}+1과\\ x축,\\ y축\\ 및\\ 직선\\ x=1로\\\\\n",
    "둘러싸인\\ 도형을\\ 밑면으로\\ 하는\\ 입체도형이\\ 있다.\\ 이\\ 입체도형을\\\\\n",
    "x축에\\ 수직인\\ 평면으로\\ 자른\\ 단면이\\ 모두\\ 정사각형일\\ 때,\\\\\n",
    "이\\ 입체도형의\\ 부피는?$\n",
    "![11번 문제](img/11.png)"
   ]
  },
  {
   "cell_type": "code",
   "execution_count": 13,
   "metadata": {
    "collapsed": false
   },
   "outputs": [
    {
     "name": "stdout",
     "output_type": "stream",
     "text": [
      "17/6\n"
     ]
    }
   ],
   "source": [
    "import scipy.integrate as integrate\n",
    "import math\n",
    "from fractions import Fraction\n",
    "\n",
    "def length_of_side(x):\n",
    "    return math.sqrt(x)+1\n",
    "def area_of_one(x):\n",
    "    return length_of_side(x)**2\n",
    "\n",
    "volume = integrate.quad(area_of_one, 0, 1)\n",
    "\n",
    "# convert a decimal num into fraction\n",
    "volume = Fraction(volume[0]).limit_denominator()\n",
    "\n",
    "print(volume)"
   ]
  },
  {
   "cell_type": "markdown",
   "metadata": {},
   "source": [
    "$12.\\ 좌표공간에서\\ 평면\\ 2x+2y-z+5=0과\\ xy평면이\\ 이루는\\\\\n",
    "예각의\\ 크기를\\ \\theta 라\\ 할\\ 때, \\cos{\\theta}의\\ 값은?$\n",
    "> 두 법선벡터의 내적을 이용한다.\n",
    "> 단, 두 평면이 이루는 예각을 구하기 때문에 절대값이다."
   ]
  },
  {
   "cell_type": "code",
   "execution_count": 7,
   "metadata": {
    "collapsed": false
   },
   "outputs": [
    {
     "data": {
      "text/plain": [
       "0.33333333333333331"
      ]
     },
     "execution_count": 7,
     "metadata": {},
     "output_type": "execute_result"
    }
   ],
   "source": [
    "import numpy as np\n",
    "\n",
    "a = np.array([2, 2, -1])\n",
    "b = np.array([0, 0, 1])\n",
    "numerator = np.dot(a, b)\n",
    "\n",
    "norm_a = np.linalg.norm(a)\n",
    "norm_b = np.linalg.norm(b)\n",
    "denominator = norm_a * norm_b\n",
    "\n",
    "abs(numerator / denominator)"
   ]
  },
  {
   "cell_type": "markdown",
   "metadata": {},
   "source": [
    "$13.\\ 정규분포\\ N(0,\\ 4^2)을\\ 따르는\\ 모집단에서\\ 크기가\\ 9인\\ 표본을\\ 임의추출하여\\ 구한\\\\\n",
    "표본평균을\\ \\overline{X},\\ 정규분포\\ N(3,\\ 2^2)을\\ 따르는\\ 모집단에서\\ 크기가\\ 16인\\ 표본을\\ 임의추출하여\\ 구한\\\\\n",
    "표본평균을\\ \\overline{Y}라\\ 하자.\\\\\n",
    "P(\\overline{X}\\ge 1)\\ =\\ P(\\overline{Y}\\le a)를\\ 만족시키는\\ 상수\\ a의\\ 값은?\\\\\n",
    "> X와\\ Y를\\ 정규분포화\\ 하여\\ 비교한다.$"
   ]
  },
  {
   "cell_type": "code",
   "execution_count": 8,
   "metadata": {
    "collapsed": false
   },
   "outputs": [
    {
     "data": {
      "text/plain": [
       "[2.62500000000000]"
      ]
     },
     "execution_count": 8,
     "metadata": {},
     "output_type": "execute_result"
    }
   ],
   "source": [
    "from sympy.solvers import solve\n",
    "from sympy import Symbol\n",
    "\n",
    "a = Symbol(\"a\")\n",
    "\n",
    "X_bar_mean = 0\n",
    "X_bar_var = 4/3\n",
    "Y_bar_mean = 3\n",
    "Y_bar_var = 1/2\n",
    "\n",
    "solve((2*a - 2*Y_bar_mean + (1-0)/X_bar_var), a)"
   ]
  },
  {
   "cell_type": "markdown",
   "metadata": {},
   "source": [
    "$14.\\ 그림과\\ 같이\\ 반지름의\\ 길이가\\ 1이고\\ 중심각의\\ 크기가\\ \\frac{\\pi}{2}인\\ 부채꼴\\ OAB가\\ 있다.\\\\\n",
    "호\\ AB\\ 위의\\ 점\\ P에서\\ 선분\\ OA에\\ 내린\\ 수선의\\ 발을\\ H,\\ 선분\\ PH와\\ 선분\\ AB의\\ 교점을\\ Q라\\ 하자.\\\\\n",
    "\\angle{POH}=\\theta 일\\ 때,\\ 삼각형\\ AQH의\\ 넓이를\\ S(\\theta )라\\ 하자.\\\\\n",
    "\\lim_{\\theta\\to0+}\\frac{S(\\theta)}{\\theta^4}의\\ 값은?\\ (단,\\ 0\\lt\\theta\\lt\\frac{\\pi}{2})$\n",
    "![14번 문제](img/14.png)\n",
    "> 삼각형 AQH가 이등변삼각형임을 이용"
   ]
  },
  {
   "cell_type": "code",
   "execution_count": 11,
   "metadata": {
    "collapsed": false
   },
   "outputs": [
    {
     "data": {
      "text/plain": [
       "1/8"
      ]
     },
     "execution_count": 11,
     "metadata": {},
     "output_type": "execute_result"
    }
   ],
   "source": [
    "from sympy import Symbol, Limit, cos\n",
    "\n",
    "th = Symbol('th')\n",
    "s = (1-cos(th))**2/2\n",
    "Limit(s/pow(th,4), th, 0).doit()"
   ]
  },
  {
   "cell_type": "markdown",
   "metadata": {},
   "source": [
    "$15.\\ 곡선\\ y=2e^{-x}\\ 위의\\ 점\\ P(t,\\ 2e^{-t})\\ (t\\gt0)에서\\ y축에\\ 내린\\ 수선의\\ 발을\\ A라\\ 하고,\\\\\n",
    "점\\ P에서의\\ 접선이\\ y축과\\ 만나는\\ 점을\\ B라\\ 하자.\\\\\n",
    "삼각형\\ APB의\\ 넓이가\\ 최대가\\ 되로록\\ 하는\\ t의\\ 값은?$\n",
    "![15번 문제](img/15.png)\n",
    ">P에서 접선을 구하여 B를 구하여 AB의 길이를 구한 뒤, AP의 길이 t와 곱한 값을 미분하여 0이 되는 값을 찾는다."
   ]
  },
  {
   "cell_type": "code",
   "execution_count": 23,
   "metadata": {
    "collapsed": false
   },
   "outputs": [
    {
     "data": {
      "text/plain": [
       "[0.0, 2.00000000000000]"
      ]
     },
     "execution_count": 23,
     "metadata": {},
     "output_type": "execute_result"
    }
   ],
   "source": [
    "from scipy import e\n",
    "from sympy.solvers import solve\n",
    "from sympy import Symbol, Limit, Derivative\n",
    "\n",
    "t = Symbol('t')\n",
    "AP = t\n",
    "AB = 2 * t * e**(-t)\n",
    "\n",
    "s = AP * AB / 2\n",
    "d = Derivative(s, t).doit()\n",
    "solve(d, t)"
   ]
  },
  {
   "cell_type": "markdown",
   "metadata": {},
   "source": [
    "$16.\\ 좌표공간에서\\ 원점에\\ 대한\\ 세\\ 점\\ A,\\ B,\\ C의\\ 위치벡터를\\ 차례로\\ \\overrightarrow{a},\\ \\overrightarrow{b},\\ \\overrightarrow{c}라\\ 할\\ 때,\\\\\n",
    "이들\\ 벡터\\ 사이의\\ 내적을\\ 표로\\ 나타내면\\ 다음과\\ 같다.\\\\$\n",
    "![16번 문제](img/16.png)\n",
    "$예를\\ 들어,\\ \\overrightarrow{a}\\cdot\\overrightarrow{c}=-\\sqrt{2}이다.\\ 세\\ 점\\ A,\\ B,\\ C에\\ 대하여\\\\\n",
    "두\\ 점\\ 사이의\\ 거리의\\ 대소\\ 관계로\\ 옳은\\ 것은?$\n",
    "> a, b, c의 크기는 같다. 각 벡터가 이루는 각으로 비교해야 하는데, b와 c는 내적이 0이기에 직각을 이루고, a와 b는 내적 값이 양수이기에 예각, a와 c는 내적 값이 음수이기에 둔각을 이룬다. 따라서 둔각을 이루고 있는 AC의 길이가 가장 길고, 직각을 이루고 있는 BC의 길이가 그 다음으로 길고, 예각을 이루고 있는 AB의 길이가 가장 짧다."
   ]
  },
  {
   "cell_type": "code",
   "execution_count": null,
   "metadata": {
    "collapsed": true
   },
   "outputs": [],
   "source": []
  }
 ],
 "metadata": {
  "anaconda-cloud": {
   "environment": null,
   "organization": "ymath",
   "summary": "2017학년도 대학수학능력시험 문제 수학영역(가형)",
   "url": "https://anaconda.org/ymath/2017_csat_mathematics_type_ga"
  },
  "kernelspec": {
   "display_name": "Python [default]",
   "language": "python",
   "name": "python3"
  },
  "language_info": {
   "codemirror_mode": {
    "name": "ipython",
    "version": 3
   },
   "file_extension": ".py",
   "mimetype": "text/x-python",
   "name": "python",
   "nbconvert_exporter": "python",
   "pygments_lexer": "ipython3",
   "version": "3.5.2"
  }
 },
 "nbformat": 4,
 "nbformat_minor": 1
}
